{
 "cells": [
  {
   "cell_type": "code",
   "execution_count": 4,
   "metadata": {},
   "outputs": [
    {
     "name": "stdout",
     "output_type": "stream",
     "text": [
      " * Serving Flask app '__main__'\n",
      " * Debug mode: off\n"
     ]
    },
    {
     "name": "stderr",
     "output_type": "stream",
     "text": [
      "WARNING: This is a development server. Do not use it in a production deployment. Use a production WSGI server instead.\n",
      " * Running on http://127.0.0.1:5000\n",
      "Press CTRL+C to quit\n",
      "127.0.0.1 - - [15/Oct/2024 00:23:46] \"GET / HTTP/1.1\" 200 -\n",
      "127.0.0.1 - - [15/Oct/2024 00:23:46] \"GET /static/css/style.css HTTP/1.1\" 304 -\n",
      "127.0.0.1 - - [15/Oct/2024 00:24:20] \"POST /predict HTTP/1.1\" 200 -\n"
     ]
    },
    {
     "name": "stdout",
     "output_type": "stream",
     "text": [
      "[272156.529889]\n"
     ]
    },
    {
     "name": "stderr",
     "output_type": "stream",
     "text": [
      "127.0.0.1 - - [15/Oct/2024 00:25:13] \"POST /predict HTTP/1.1\" 200 -\n"
     ]
    },
    {
     "name": "stdout",
     "output_type": "stream",
     "text": [
      "[272156.529889]\n"
     ]
    }
   ],
   "source": [
    "from flask import Flask,render_template,request,redirect\n",
    "from flask_cors import CORS,cross_origin\n",
    "import pickle\n",
    "import pandas as pd\n",
    "import numpy as np\n",
    "\n",
    "app=Flask(__name__)\n",
    "cors=CORS(app)\n",
    "model=pickle.load(open('LinearRegressionModel.pkl','rb'))\n",
    "car=pd.read_csv('Cleaned car.csv')\n",
    "\n",
    "@app.route('/',methods=['GET','POST'])\n",
    "def index():\n",
    "    companies=sorted(car['company'].unique())\n",
    "    car_models=sorted(car['name'].unique())\n",
    "    year=sorted(car['year'].unique(),reverse=True)\n",
    "    fuel_type=car['fuel_type'].unique()\n",
    "\n",
    "    companies.insert(0,'Select Company')\n",
    "    return render_template('index.html',companies=companies, car_models=car_models, years=year,fuel_types=fuel_type)\n",
    "\n",
    "\n",
    "@app.route('/predict',methods=['POST'])\n",
    "@cross_origin()\n",
    "def predict():\n",
    "\n",
    "    company=request.form.get('company')\n",
    "\n",
    "    car_model=request.form.get('car_models')\n",
    "    year=request.form.get('year')\n",
    "    fuel_type=request.form.get('fuel_type')\n",
    "    driven=request.form.get('kilo_driven')\n",
    "\n",
    "    prediction=model.predict(pd.DataFrame(columns=['name', 'company', 'year', 'kms_driven', 'fuel_type'],\n",
    "                              data=np.array([car_model,company,year,driven,fuel_type]).reshape(1, 5)))\n",
    "    print(prediction)\n",
    "\n",
    "    return str(np.round(prediction[0]*1.42,2))\n",
    "\n",
    "\n",
    "\n",
    "if __name__=='__main__':\n",
    "    app.run()"
   ]
  }
 ],
 "metadata": {
  "kernelspec": {
   "display_name": "base",
   "language": "python",
   "name": "python3"
  },
  "language_info": {
   "codemirror_mode": {
    "name": "ipython",
    "version": 3
   },
   "file_extension": ".py",
   "mimetype": "text/x-python",
   "name": "python",
   "nbconvert_exporter": "python",
   "pygments_lexer": "ipython3",
   "version": "3.12.4"
  }
 },
 "nbformat": 4,
 "nbformat_minor": 2
}
